{
 "cells": [
  {
   "cell_type": "code",
   "execution_count": 2,
   "metadata": {},
   "outputs": [
    {
     "data": {
      "text/plain": [
       "[<Task(BashOperator): sleep>, <Task(BashOperator): templated>]"
      ]
     },
     "execution_count": 2,
     "metadata": {},
     "output_type": "execute_result"
    }
   ],
   "source": [
    "from datetime import timedelta\n",
    "# The DAG object; we'll need this to instantiate a DAG\n",
    "from airflow import DAG\n",
    "# Operators; we need this to operate!\n",
    "from airflow.operators.bash_operator import BashOperator\n",
    "from airflow.utils.dates import days_ago\n",
    "# These args will get passed on to each operator\n",
    "# You can override them on a per-task basis during operator initialization\n",
    "default_args = {\n",
    "    'owner': 'airflow',\n",
    "    'depends_on_past': False,\n",
    "    'start_date': days_ago(2),\n",
    "    'email': ['airflow@example.com'],\n",
    "    'email_on_failure': False,\n",
    "    'email_on_retry': False,\n",
    "    'retries': 1,\n",
    "    'retry_delay': timedelta(minutes=5),\n",
    "    # 'queue': 'bash_queue',\n",
    "    # 'pool': 'backfill',\n",
    "    # 'priority_weight': 10,\n",
    "    # 'end_date': datetime(2016, 1, 1),\n",
    "    # 'wait_for_downstream': False,\n",
    "    # 'dag': dag,\n",
    "    # 'sla': timedelta(hours=2),\n",
    "    # 'execution_timeout': timedelta(seconds=300),\n",
    "    # 'on_failure_callback': some_function,\n",
    "    # 'on_success_callback': some_other_function,\n",
    "    # 'on_retry_callback': another_function,\n",
    "    # 'sla_miss_callback': yet_another_function,\n",
    "    # 'trigger_rule': 'all_success'\n",
    "}\n",
    "dag = DAG(\n",
    "    'tutorial',\n",
    "    default_args=default_args,\n",
    "    description='A simple tutorial DAG',\n",
    "    schedule_interval=timedelta(days=1),\n",
    ")\n",
    "\n",
    "# t1, t2 and t3 are examples of tasks created by instantiating operators\n",
    "t1 = BashOperator(\n",
    "    task_id='print_date',\n",
    "    bash_command='date',\n",
    "    dag=dag,\n",
    ")\n",
    "\n",
    "t2 = BashOperator(\n",
    "    task_id='sleep',\n",
    "    depends_on_past=False,\n",
    "    bash_command='sleep 5',\n",
    "    retries=3,\n",
    "    dag=dag,\n",
    ")\n",
    "dag.doc_md = __doc__\n",
    "\n",
    "t1.doc_md = \"\"\"\\\n",
    "#### Task Documentation\n",
    "You can document your task using the attributes `doc_md` (markdown),\n",
    "`doc` (plain text), `doc_rst`, `doc_json`, `doc_yaml` which gets\n",
    "rendered in the UI's Task Instance Details page.\n",
    "![img](http://montcs.bloomu.edu/~bobmon/Semesters/2012-01/491/import%20soul.png)\n",
    "\"\"\"\n",
    "templated_command = \"\"\"\n",
    "{% for i in range(5) %}\n",
    "    echo \"{{ ds }}\"\n",
    "    echo \"{{ macros.ds_add(ds, 7)}}\"\n",
    "    echo \"{{ params.my_param }}\"\n",
    "{% endfor %}\n",
    "\"\"\"\n",
    "\n",
    "t3 = BashOperator(\n",
    "    task_id='templated',\n",
    "    depends_on_past=False,\n",
    "    bash_command=templated_command,\n",
    "    params={'my_param': 'Parameter I passed in'},\n",
    "    dag=dag,\n",
    ")\n",
    "\n",
    "t1 >> [t2, t3]"
   ]
  },
  {
   "cell_type": "code",
   "execution_count": null,
   "metadata": {},
   "outputs": [],
   "source": []
  }
 ],
 "metadata": {
  "kernelspec": {
   "display_name": "Python 3",
   "language": "python",
   "name": "python3"
  },
  "language_info": {
   "codemirror_mode": {
    "name": "ipython",
    "version": 3
   },
   "file_extension": ".py",
   "mimetype": "text/x-python",
   "name": "python",
   "nbconvert_exporter": "python",
   "pygments_lexer": "ipython3",
   "version": "3.7.6"
  }
 },
 "nbformat": 4,
 "nbformat_minor": 4
}
