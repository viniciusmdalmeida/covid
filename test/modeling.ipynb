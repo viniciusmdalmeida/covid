{
 "cells": [
  {
   "cell_type": "markdown",
   "metadata": {},
   "source": [
    "# Completo"
   ]
  },
  {
   "cell_type": "code",
   "execution_count": 2,
   "metadata": {},
   "outputs": [
    {
     "name": "stdout",
     "output_type": "stream",
     "text": [
      "Treinando modelo LinearRegression\n",
      "Treinando modelo KNeighborsRegressor\n",
      "Treinando modelo DecisionTreeRegressor\n",
      "Treinando modelo RandomForestRegressor\n",
      "Tabela salva em ./model_output_67191.csv\n",
      "dados dos modelos salvos em .model_output_67191.csv\n"
     ]
    }
   ],
   "source": [
    "#Importando bibliotecas nescessárias \n",
    "import pandas as pd \n",
    "import json\n",
    "import psycopg2\n",
    "from sqlalchemy import create_engine\n",
    "from datetime import datetime\n",
    "#sklearn\n",
    "from sklearn.model_selection import cross_validate\n",
    "#Internos\n",
    "import sys\n",
    "sys.path.append('../src/6.modeling')\n",
    "from models import *\n",
    "\n",
    "import mlflow\n",
    "import mlflow.sklearn\n",
    "\n",
    "#Paths\n",
    "conf_data_path = '../config/data_config.json'\n",
    "conf_model_path = '../config/model_config.json'\n",
    "\n",
    "#Lendo arquivos de configuração\n",
    "config_data_file = open(conf_data_path)\n",
    "config_data = json.loads(config_data_file.read())\n",
    "config_data_file.close()\n",
    "\n",
    "#Lendo arquivos de configuração\n",
    "config_model_file = open(conf_model_path)\n",
    "config_model = json.loads(config_model_file.read())\n",
    "config_model_file.close()\n",
    "\n",
    "#Conectando com os dados\n",
    "connect_data = config_data['connection']\n",
    "textEngine = f\"{connect_data['driver']}://{connect_data['user']}:{connect_data['password']}@{connect_data['host']}:{connect_data['port']}/{connect_data['database']}\"\n",
    "\n",
    "#Lendo dados em pandas\n",
    "master_table = pd.read_sql_table('master_table',textEngine)\n",
    "\n",
    "#########\n",
    "#PrepData\n",
    "#########\n",
    "\n",
    "#removendo index\n",
    "master_table = master_table.drop('index',axis=1)\n",
    "\n",
    "#pegando amostra dos dados\n",
    "percent_sample = config_model['percent_sample']\n",
    "ponto_corte = int(len(master_table)*percent_sample)\n",
    "master_part = master_table[:ponto_corte]\n",
    "\n",
    "#retirando nan\n",
    "master_part = master_part.dropna()\n",
    "\n",
    "##########\n",
    "# Modelos\n",
    "##########\n",
    "output_dict = {}\n",
    "\n",
    "y = master_part['Revenue']\n",
    "x = master_part.drop(['Revenue'],axis=1)\n",
    "\n",
    "list_result  = []\n",
    "for model_name in config_model['models'] :\n",
    "    print(f\"Treinando modelo {model_name}\")\n",
    "    #Iniciando o modelo (buscado a classe com eval e iniciando os parametros)\n",
    "    model_class = eval(model_name)\n",
    "    paramns = config_model['models'][model_name]['params']\n",
    "    model = model_class(**paramns)\n",
    "    #Fazendo teste de cross_validade\n",
    "    score = cross_validate(model, x, y, scoring=config_model['scoring'],cv=5, return_train_score=False)\n",
    "    result = pd.DataFrame(score)\n",
    "    list_result.append(result)\n",
    "    name = model.__class__.__name__\n",
    "    output_dict[name] = model.get_params()\n",
    "    #Salvando dados no mlflow\n",
    "    experiment_id = mlflow.set_experiment('Teste_piloto') \n",
    "    mlflow.start_run(run_name=model_name)\n",
    "    model_id = mlflow.active_run().info.run_id\n",
    "    #Salvando metricas\n",
    "    mlflow.log_params(paramns)\n",
    "    #Colocando metricas no mlflow\n",
    "    for column in result:\n",
    "        mlflow.log_metric(column,result[column].mean())\n",
    "    mlflow.set_tag('type','model/'+model_name)\n",
    "    mlflow.sklearn.save_model(model,'model/'+str(model_id))\n",
    "    mlflow.sklearn.log_model(model,artifact_path='model/'+str(model_id)+'_log')\n",
    "    mlflow.end_run()\n",
    "\n",
    "out_type = config_model['model_output']['type'] \n",
    "if out_type == 'normal':\n",
    "    output_table = pd.concat(list_result, axis=1, keys=config_model[\"models\"].keys())\n",
    "else:\n",
    "    out_list = []\n",
    "    for result in list_result: \n",
    "        out_list.append(result.apply(out_type))\n",
    "\n",
    "    output_table = pd.DataFrame(out_list,index=config_model[\"models\"].keys())\n",
    "\n",
    "#save table\n",
    "time_stamp_id = str(int(datetime.now().timestamp()))[-5:]\n",
    "output_table_name = f\"model_output_{time_stamp_id}.csv\"\n",
    "output_table_path = config_model['model_output']['path']\n",
    "output_table.to_csv(f\"{output_table_path}{output_table_name}\")\n",
    "print(f\"Tabela salva em {output_table_path}/{output_table_name}\")\n",
    "\n",
    "#save dict\n",
    "output_dict['table_path'] = f\"{output_table_path}{output_table_name}\"\n",
    "with open('output_dict.json', 'w') as outfile:\n",
    "    json.dump(output_dict, outfile, indent=2)\n",
    "print(f\"dados dos modelos salvos em {output_table_path}{output_table_name}\")\n"
   ]
  },
  {
   "cell_type": "code",
   "execution_count": 24,
   "metadata": {},
   "outputs": [],
   "source": [
    "mlflow.end_run()"
   ]
  },
  {
   "cell_type": "markdown",
   "metadata": {},
   "source": [
    "## Testes"
   ]
  },
  {
   "cell_type": "code",
   "execution_count": 9,
   "metadata": {},
   "outputs": [],
   "source": []
  },
  {
   "cell_type": "code",
   "execution_count": 7,
   "metadata": {},
   "outputs": [],
   "source": [
    "mlflow.log_params({\"Teste\":1,\"Teste2\":2})"
   ]
  },
  {
   "cell_type": "code",
   "execution_count": 30,
   "metadata": {},
   "outputs": [
    {
     "data": {
      "text/plain": [
       "0.24627256393432617"
      ]
     },
     "execution_count": 30,
     "metadata": {},
     "output_type": "execute_result"
    }
   ],
   "source": [
    "result['fit_time'].mean()"
   ]
  },
  {
   "cell_type": "code",
   "execution_count": 33,
   "metadata": {},
   "outputs": [
    {
     "data": {
      "text/plain": [
       "'1'"
      ]
     },
     "execution_count": 33,
     "metadata": {},
     "output_type": "execute_result"
    }
   ],
   "source": [
    "mlflow.create_experiment('Test') "
   ]
  },
  {
   "cell_type": "code",
   "execution_count": 3,
   "metadata": {},
   "outputs": [],
   "source": [
    "date = datetime.now()"
   ]
  },
  {
   "cell_type": "code",
   "execution_count": 4,
   "metadata": {},
   "outputs": [
    {
     "data": {
      "text/plain": [
       "'2020-05-30T00:47:24.186762'"
      ]
     },
     "execution_count": 4,
     "metadata": {},
     "output_type": "execute_result"
    }
   ],
   "source": [
    "date.isoformat()"
   ]
  },
  {
   "cell_type": "code",
   "execution_count": 2,
   "metadata": {},
   "outputs": [],
   "source": [
    "mlflow.end_run()"
   ]
  },
  {
   "cell_type": "code",
   "execution_count": 5,
   "metadata": {},
   "outputs": [],
   "source": [
    "df = pd.DataFrame({'z':[1,2,3],'x':[1,2,3]})"
   ]
  },
  {
   "cell_type": "code",
   "execution_count": 7,
   "metadata": {},
   "outputs": [
    {
     "data": {
      "text/plain": [
       "{'z': 2.0, 'x': 2.0}"
      ]
     },
     "execution_count": 7,
     "metadata": {},
     "output_type": "execute_result"
    }
   ],
   "source": [
    "df.apply('mean').to_dict()"
   ]
  },
  {
   "cell_type": "code",
   "execution_count": 1,
   "metadata": {},
   "outputs": [],
   "source": [
    "import mlflow"
   ]
  },
  {
   "cell_type": "code",
   "execution_count": null,
   "metadata": {},
   "outputs": [],
   "source": []
  }
 ],
 "metadata": {
  "kernelspec": {
   "display_name": "Python 3",
   "language": "python",
   "name": "python3"
  },
  "language_info": {
   "codemirror_mode": {
    "name": "ipython",
    "version": 3
   },
   "file_extension": ".py",
   "mimetype": "text/x-python",
   "name": "python",
   "nbconvert_exporter": "python",
   "pygments_lexer": "ipython3",
   "version": "3.7.6"
  }
 },
 "nbformat": 4,
 "nbformat_minor": 4
}
